{
 "cells": [
  {
   "cell_type": "code",
   "execution_count": 1,
   "metadata": {
    "collapsed": true
   },
   "outputs": [],
   "source": [
    "import pandas as pd"
   ]
  },
  {
   "cell_type": "code",
   "execution_count": 53,
   "metadata": {
    "collapsed": true
   },
   "outputs": [],
   "source": [
    "#Задание 1\n",
    "data=pd.read_csv('keywords.csv')\n",
    "geo_data = {\n",
    " \n",
    "    'Центр': ['москва', 'тула', 'ярославль'],\n",
    " \n",
    "    'Северо-Запад': ['петербург', 'псков', 'мурманск'],\n",
    " \n",
    "    'Дальний Восток': ['владивосток', 'сахалин', 'хабаровск']\n",
    " \n",
    "}\n",
    "def region_name(row):\n",
    "    for key,value in geo_data.items():\n",
    "        for i in range(len(value)):\n",
    "            if value[i] in row['keyword']:\n",
    "                return key\n",
    "    return 'undefined'\n",
    "        \n"
   ]
  },
  {
   "cell_type": "code",
   "execution_count": 60,
   "metadata": {},
   "outputs": [
    {
     "data": {
      "text/plain": [
       "undefined         99253\n",
       "Центр               387\n",
       "Северо-Запад        266\n",
       "Дальний Восток       94\n",
       "Name: region, dtype: int64"
      ]
     },
     "execution_count": 60,
     "metadata": {},
     "output_type": "execute_result"
    }
   ],
   "source": [
    "data['region']=data.apply(region_name,axis=1)\n",
    "data.region.value_counts()"
   ]
  },
  {
   "cell_type": "code",
   "execution_count": 2,
   "metadata": {
    "collapsed": true
   },
   "outputs": [],
   "source": [
    "\n",
    "data=pd.read_csv('ratings_small.csv')\n"
   ]
  },
  {
   "cell_type": "code",
   "execution_count": 3,
   "metadata": {
    "collapsed": true
   },
   "outputs": [],
   "source": [
    "#Задание 2\n",
    "def rat_cl(row):\n",
    "    if row['rating']<=2:\n",
    "        return 'level_low'\n",
    "    if row['rating']>2 and row['rating']<=4:\n",
    "        return 'level_avg'\n",
    "    if row['rating']==4.5 or row['rating']==5:\n",
    "        return 'level_high'"
   ]
  },
  {
   "cell_type": "code",
   "execution_count": 4,
   "metadata": {},
   "outputs": [
    {
     "data": {
      "text/plain": [
       "level_avg     679054\n",
       "level_high    232410\n",
       "level_low     137111\n",
       "Name: class, dtype: int64"
      ]
     },
     "execution_count": 4,
     "metadata": {},
     "output_type": "execute_result"
    }
   ],
   "source": [
    "data['class']=data.apply(rat_cl,axis=1)\n",
    "data['class'].value_counts()"
   ]
  },
  {
   "cell_type": "code",
   "execution_count": 56,
   "metadata": {},
   "outputs": [],
   "source": [
    "#Задание 3\n",
    "ratings_count = data.groupby('userId').count().reset_index()[['userId', 'movieId']]\n"
   ]
  },
  {
   "cell_type": "code",
   "execution_count": 36,
   "metadata": {},
   "outputs": [],
   "source": [
    "film_fans_ratings_count = ratings_count[ ratings_count['movieId'] >= 100 ]\n"
   ]
  },
  {
   "cell_type": "code",
   "execution_count": 40,
   "metadata": {},
   "outputs": [],
   "source": [
    "joined = data.merge(film_fans_ratings_count, on='userId')"
   ]
  },
  {
   "cell_type": "code",
   "execution_count": 55,
   "metadata": {},
   "outputs": [
    {
     "data": {
      "text/plain": [
       "482.5656950229386"
      ]
     },
     "execution_count": 55,
     "metadata": {},
     "output_type": "execute_result"
    }
   ],
   "source": [
    "aaa=joined.groupby('userId').agg(['min', 'max'])['timestamp']\n",
    "aaa['ggg']=aaa['max']-aaa['min']\n",
    "#Если поле timestamp в секундах.....считаем кол-во дней\n",
    "ttt=aaa['ggg'].sum()/aaa['ggg'].count()/60/60/24\n",
    "ttt"
   ]
  },
  {
   "cell_type": "code",
   "execution_count": 58,
   "metadata": {
    "collapsed": true
   },
   "outputs": [],
   "source": [
    "#Задание 4\n",
    "#Загружаем названия фильмов\n",
    "m_data=pd.read_csv('movies.csv')"
   ]
  },
  {
   "cell_type": "code",
   "execution_count": 60,
   "metadata": {
    "collapsed": true
   },
   "outputs": [],
   "source": [
    "#Объединяем таблицы\n",
    "join=data.merge(m_data, on='movieId')"
   ]
  },
  {
   "cell_type": "code",
   "execution_count": 69,
   "metadata": {},
   "outputs": [],
   "source": [
    "#Список с годами\n",
    "a=[]\n",
    "for i in range(2010-1950+1):\n",
    "    a.append(i+1950)"
   ]
  },
  {
   "cell_type": "code",
   "execution_count": 82,
   "metadata": {
    "collapsed": true
   },
   "outputs": [],
   "source": [
    "#ищем совпадения\n",
    "def production_year(row):\n",
    "    for i in range(len(a)):\n",
    "        if str(a[i]) in row['title']:\n",
    "            return a[i]\n",
    "    return 1900"
   ]
  },
  {
   "cell_type": "code",
   "execution_count": null,
   "metadata": {},
   "outputs": [],
   "source": [
    "#добавляем столбец с годами\n",
    "join['year']=join.apply(production_year,axis=1)\n"
   ]
  },
  {
   "cell_type": "code",
   "execution_count": null,
   "metadata": {},
   "outputs": [],
   "source": [
    "j_1=join.groupby('year').agg(['mean'])['rating']\n"
   ]
  },
  {
   "cell_type": "code",
   "execution_count": null,
   "metadata": {},
   "outputs": [],
   "source": [
    "j_1.sort_values('mean', ascending=False)"
   ]
  },
  {
   "cell_type": "code",
   "execution_count": null,
   "metadata": {
    "collapsed": true
   },
   "outputs": [],
   "source": []
  }
 ],
 "metadata": {
  "kernelspec": {
   "display_name": "Python 3",
   "language": "python",
   "name": "python3"
  },
  "language_info": {
   "codemirror_mode": {
    "name": "ipython",
    "version": 3
   },
   "file_extension": ".py",
   "mimetype": "text/x-python",
   "name": "python",
   "nbconvert_exporter": "python",
   "pygments_lexer": "ipython3",
   "version": "3.6.1"
  }
 },
 "nbformat": 4,
 "nbformat_minor": 2
}
