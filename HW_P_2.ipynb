{
 "cells": [
  {
   "cell_type": "code",
   "execution_count": 45,
   "metadata": {},
   "outputs": [
    {
     "name": "stdout",
     "output_type": "stream",
     "text": [
      "['visit1', ['Москва', 'Россия'], 'visit3', ['Владимир', 'Россия'], 'visit7', ['Тула', 'Россия'], 'visit8', ['Тула', 'Россия'], 'visit9', ['Курск', 'Россия'], 'visit10', ['Архангельск', 'Россия']]\n"
     ]
    }
   ],
   "source": [
    "#задание 1\n",
    "i=0\n",
    "geo_logs_n=[]\n",
    "geo_logs = [\n",
    "['visit1', ['Москва', 'Россия']],\n",
    "['visit2', ['Дели', 'Индия']],\n",
    "['visit3', ['Владимир', 'Россия']],\n",
    "['visit4', ['Лиссабон', 'Португалия']],\n",
    "['visit5', ['Париж', 'Франция']],\n",
    "['visit6', ['Лиссабон', 'Португалия']],\n",
    "['visit7', ['Тула', 'Россия']],\n",
    "['visit8', ['Тула', 'Россия']],\n",
    "['visit9', ['Курск', 'Россия']],\n",
    "['visit10', ['Архангельск', 'Россия']],\n",
    "]\n",
    "geo_len=int(len(geo_logs))\n",
    "for i in range(geo_len):\n",
    "    if geo_logs[i][1][1]=='Россия': geo_logs_n=geo_logs_n+geo_logs[i]\n",
    "print(geo_logs_n)\n"
   ]
  },
  {
   "cell_type": "code",
   "execution_count": 209,
   "metadata": {},
   "outputs": [
    {
     "name": "stdout",
     "output_type": "stream",
     "text": [
      "[15, 35, 54, 98, 119, 213]\n"
     ]
    }
   ],
   "source": [
    "#задание 2\n",
    "a=[]\n",
    "b=[]\n",
    "t=0\n",
    "ids = {'user1': [213, 213, 213, 15, 213], 'user2': [54, 54, 119, 119, 119], 'user3': [213, 98, 98, 35]}\n",
    "for key, value in ids.items():\n",
    "    for i in range(len(value)):\n",
    "       a.append(value[i])\n",
    "       t=t+1\n",
    "ttt=sorted(set(a))\n",
    "           \n",
    "           \n",
    "print(ttt)"
   ]
  },
  {
   "cell_type": "code",
   "execution_count": 275,
   "metadata": {
    "scrolled": false
   },
   "outputs": [
    {
     "name": "stdout",
     "output_type": "stream",
     "text": [
      "{2: 0.42857142857142855, 3: 0.5714285714285714}\n"
     ]
    }
   ],
   "source": [
    "#Задание 3\n",
    "#кол-во слов в запросе\n",
    "u=[]\n",
    "#кол-во запросов с уникальными словами\n",
    "bbb=[]\n",
    "k=0\n",
    "#------\n",
    "queries = [\n",
    "'смотреть сериалы онлайн',\n",
    "'новости спорта',\n",
    "'афиша кино',\n",
    "'курс доллара',\n",
    "'сериалы этим летом',\n",
    "'курс по питону',\n",
    "'сериалы про спорт',\n",
    "]\n",
    "#Считаем кол-во строк в запросах\n",
    "for i in range(len(queries)):\n",
    " \n",
    "       u.append(len(queries[i].split(' ')))\n",
    "#Определяем уникальные значения\n",
    "a=sorted(set(u))\n",
    "\n",
    "#считаем кол-во повторяющихся элементов по группам\n",
    "for i in range(len(a)):\n",
    "    k=0\n",
    "    for j in range(len(u)):\n",
    "        if u[j]==a[i]: \n",
    "            k=k+1\n",
    "    bbb.append(k/len(u))\n",
    "#Формируем словарь с распределением по значениям\n",
    "\n",
    "    my_dict = dict(zip(a, bbb))\n",
    "\n",
    "print(my_dict)"
   ]
  },
  {
   "cell_type": "code",
   "execution_count": 329,
   "metadata": {},
   "outputs": [
    {
     "data": {
      "text/plain": [
       "('yandex', 120)"
      ]
     },
     "execution_count": 329,
     "metadata": {},
     "output_type": "execute_result"
    }
   ],
   "source": [
    "#задание 4\n",
    "a=[]\n",
    "stats = {'facebook': 55, 'yandex': 120, 'vk': 115, 'google': 99, 'email': 42, 'ok': 98}\n",
    "list(stats.items())[list(stats.keys()).index(max(stats))]\n",
    "# Возвращает только ключ: list(stats.keys())[list(stats.keys()).index(max(stats))]"
   ]
  },
  {
   "cell_type": "code",
   "execution_count": 404,
   "metadata": {},
   "outputs": [
    {
     "name": "stdout",
     "output_type": "stream",
     "text": [
      "{'user1': 5.25, 'user2': 7.0, 'user3': 7.0, 'user4': 10.2}\n"
     ]
    }
   ],
   "source": [
    "#задание 5\n",
    "u=[]\n",
    "bbb=[]\n",
    "stream = [\n",
    "'2018-01-01,user1,3',\n",
    "'2018-01-07,user1,4',\n",
    "'2018-03-29,user1,1',\n",
    "'2018-04-04,user1,13',\n",
    "'2018-01-05,user2,7',\n",
    "'2018-06-14,user3,4',\n",
    "'2018-07-02,user3,10',\n",
    "'2018-03-21,user4,19',\n",
    "'2018-03-22,user4,4',\n",
    "'2018-04-22,user4,8',\n",
    "'2018-05-03,user4,9',\n",
    "'2018-05-11,user4,11',\n",
    "]\n",
    "for i in range(len(stream)):\n",
    " \n",
    "       u.append(stream[i].split(',')[1])\n",
    "a=sorted(set(u))\n",
    "\n",
    "for i in range(len(a)):\n",
    "    k=0\n",
    "    g=0\n",
    "    for j in range(len(stream)):\n",
    "            if stream[j].split(',')[1]==a[i]:\n",
    "                k=k+1\n",
    "                g=g+int(stream[j].split(',')[-1])\n",
    "    bbb.append(g/k)\n",
    "\n",
    "    \n",
    "rezult = dict(zip(a, bbb))       \n",
    "        \n",
    "print(rezult)"
   ]
  },
  {
   "cell_type": "code",
   "execution_count": 410,
   "metadata": {},
   "outputs": [
    {
     "name": "stdout",
     "output_type": "stream",
     "text": [
      "25\n"
     ]
    }
   ],
   "source": [
    "#задание 6\n",
    "stats = [\n",
    "['2018-01-01', 'google', 25],\n",
    "['2018-01-01', 'yandex', 65],\n",
    "['2018-01-01', 'market', 89],\n",
    "['2018-01-02', 'google', 574],\n",
    "['2018-01-02', 'yandex', 249],\n",
    "['2018-01-02', 'market', 994],\n",
    "['2018-01-03', 'google', 1843],\n",
    "['2018-01-03', 'yandex', 1327],\n",
    "['2018-01-03', 'market', 1764],\n",
    "]\n",
    "# задаем данные для поиска\n",
    "in_date='2018-01-01'\n",
    "in_name='google'\n",
    "\n",
    "for i in range(len(stats)):\n",
    "    if stats[i][0]==in_date and stats[i][1]==in_name: \n",
    "        rez=stats[i][-1]\n",
    "print(rez)\n",
    "        "
   ]
  }
 ],
 "metadata": {
  "kernelspec": {
   "display_name": "Python 3",
   "language": "python",
   "name": "python3"
  },
  "language_info": {
   "codemirror_mode": {
    "name": "ipython",
    "version": 3
   },
   "file_extension": ".py",
   "mimetype": "text/x-python",
   "name": "python",
   "nbconvert_exporter": "python",
   "pygments_lexer": "ipython3",
   "version": "3.6.5"
  }
 },
 "nbformat": 4,
 "nbformat_minor": 2
}
