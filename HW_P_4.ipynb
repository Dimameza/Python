{
 "cells": [
  {
   "cell_type": "code",
   "execution_count": 1,
   "metadata": {
    "collapsed": true
   },
   "outputs": [],
   "source": [
    "from datetime import datetime,date,timedelta"
   ]
  },
  {
   "cell_type": "code",
   "execution_count": 113,
   "metadata": {},
   "outputs": [
    {
     "name": "stdout",
     "output_type": "stream",
     "text": [
      "дата окончания меньше даты начала\n"
     ]
    },
    {
     "data": {
      "text/plain": [
       "[]"
      ]
     },
     "execution_count": 113,
     "metadata": {},
     "output_type": "execute_result"
    }
   ],
   "source": [
    "#Задание 1,2\n",
    "def date_range(start_date,end_date):\n",
    "#Заводим пустые списки для даты начала и окончания\n",
    "            a=[]\n",
    "            b=[]\n",
    "#Проверка корректности даты начала\n",
    "            try:\n",
    "                a=datetime.date(datetime.strptime(start_date, '%Y-%m-%d'))\n",
    "            except ValueError:\n",
    "                    print('неверный формат даты начала')\n",
    "                    return a\n",
    "#Проверка корректности даты окончания\n",
    "            try:\n",
    "\n",
    "                b=datetime.date(datetime.strptime(end_date, '%Y-%m-%d'))\n",
    "            except ValueError:\n",
    "                    print('неверный формат даты окончания')\n",
    "                    return b\n",
    "                \n",
    "#Разницу в днях записываем в строку\n",
    "            c=str(b-a)\n",
    "#Ищем первый пробел\n",
    "            p=int(c.index(' '))\n",
    "#Получаем кол-во дней в числовом формате\n",
    "#Проверяем чтобы дата окончания была больше даты начала\n",
    "            try:\n",
    "                ind=int(c[:p])\n",
    "                if ind<0:\n",
    "                    raise Exception('дата окончания меньше даты начала')\n",
    "            except Exception as e:\n",
    "                print(e)\n",
    "                return []\n",
    "                \n",
    "#Заводим пустой список для итоговых значений\n",
    "            dif_date=[]\n",
    "#Наполняем итоговый список\n",
    "            for i in range(ind):\n",
    "                    dif_date.append(str(a+timedelta(days=i)))\n",
    "            return dif_date\n",
    "    \n",
    "date_range('2018-01-01','2017-01-06')"
   ]
  },
  {
   "cell_type": "code",
   "execution_count": 123,
   "metadata": {},
   "outputs": [
    {
     "data": {
      "text/plain": [
       "['2018-04-02', 'True', '2018-02-29', 'False', '2018-19-02', 'False']"
      ]
     },
     "execution_count": 123,
     "metadata": {},
     "output_type": "execute_result"
    }
   ],
   "source": [
    "#Задание 3\n",
    "stream = ['2018-04-02', '2018-02-29', '2018-19-02']\n",
    "def tru_date(stream):\n",
    "        rez=[]\n",
    "        t=0\n",
    "        for i in stream:\n",
    "            try:\n",
    "                a=0\n",
    "                datetime.date(datetime.strptime(i, '%Y-%m-%d'))\n",
    "            except ValueError:\n",
    "                  a=1\n",
    "\n",
    "            if a==1:\n",
    "                    rez.append(i)\n",
    "                    rez.append(\"False\")\n",
    "            if a==0:\n",
    "                    rez.append(i)\n",
    "                    rez.append(\"True\")\n",
    "        return rez\n",
    "tru_date(stream)\n",
    "        "
   ]
  },
  {
   "cell_type": "code",
   "execution_count": 174,
   "metadata": {},
   "outputs": [
    {
     "data": {
      "text/plain": [
       "[datetime.date(2018, 9, 1),\n",
       " datetime.date(2018, 9, 2),\n",
       " datetime.date(2018, 9, 3),\n",
       " datetime.date(2018, 9, 4),\n",
       " datetime.date(2018, 9, 5),\n",
       " datetime.date(2018, 9, 6),\n",
       " datetime.date(2018, 9, 7),\n",
       " datetime.date(2018, 9, 8),\n",
       " datetime.date(2018, 9, 9),\n",
       " datetime.date(2018, 9, 10),\n",
       " datetime.date(2018, 9, 11),\n",
       " datetime.date(2018, 9, 12),\n",
       " datetime.date(2018, 9, 13),\n",
       " datetime.date(2018, 9, 14)]"
      ]
     },
     "execution_count": 174,
     "metadata": {},
     "output_type": "execute_result"
    }
   ],
   "source": [
    "# Задание 4\n",
    "def date_tt():\n",
    "\n",
    "    dif_date=[]\n",
    "    now = datetime.date(datetime.now())\n",
    "    if now.day!=1:\n",
    "        for i in range(now.day-1):    \n",
    "            dif_date.append(now-timedelta(days=(now.day-i-1)))\n",
    "    else:\n",
    "       # Определяем дату начала предыдущего месяца:\n",
    "        date_m=date(day=1,month=now.month-1,year=2018)\n",
    "       # Считаем кол-во периодов до текущей даты\n",
    "        a=str(now-date_m)\n",
    "        p=int(a.index(' '))\n",
    "        ind=int(a[:p])\n",
    "       # Выводи даты\n",
    "        for i in range(ind):\n",
    "            dif_date.append(date_m+timedelta(days=i))\n",
    "    return dif_date \n",
    "        \n",
    "    \n",
    "date_tt()"
   ]
  },
  {
   "cell_type": "code",
   "execution_count": 198,
   "metadata": {},
   "outputs": [
    {
     "data": {
      "text/plain": [
       "datetime.date(2018, 9, 30)"
      ]
     },
     "execution_count": 198,
     "metadata": {},
     "output_type": "execute_result"
    }
   ],
   "source": [
    "# Задание 5\n",
    "def date_tt(name):\n",
    "    now=datetime.date(datetime.now())\n",
    "    if name =='today':\n",
    "        return datetime.date(datetime.now())\n",
    "    if name =='last monday':\n",
    "        #Порядковый номер дня недели\n",
    "        a=datetime.date(datetime.now()).weekday()\n",
    "        #Дата понедельника текущей недели\n",
    "        ddd=date(day=now.day-a+1,month=now.month,year=now.year)\n",
    "        #Дата понедельника прошлой недели\n",
    "        ddd=ddd-timedelta(days=8)\n",
    "        return ddd\n",
    "    if name =='last day':\n",
    "        #Дата последнего дня текущего месяца\n",
    "        ddd=date(day=1,month=now.month+1,year=now.year)-timedelta(days=1)\n",
    "        return ddd\n",
    "             \n",
    "    \n",
    "date_tt('last day')"
   ]
  },
  {
   "cell_type": "code",
   "execution_count": 239,
   "metadata": {},
   "outputs": [
    {
     "data": {
      "text/plain": [
       "[(1, '2018-09-17'),\n",
       " (1, '2018-09-18'),\n",
       " (1, '2018-09-19'),\n",
       " (1, '2018-09-20'),\n",
       " (1, '2018-09-21'),\n",
       " (1, '2018-09-22'),\n",
       " (1, '2018-09-23'),\n",
       " (1, '2018-09-24'),\n",
       " (2, '2018-09-25'),\n",
       " (2, '2018-09-26'),\n",
       " (2, '2018-09-27'),\n",
       " (2, '2018-09-28'),\n",
       " (2, '2018-09-29'),\n",
       " (2, '2018-09-30'),\n",
       " (2, '2018-10-01'),\n",
       " (2, '2018-10-02'),\n",
       " (3, '2018-10-03'),\n",
       " (3, '2018-10-04'),\n",
       " (3, '2018-10-05'),\n",
       " (3, '2018-10-06'),\n",
       " (3, '2018-10-07'),\n",
       " (3, '2018-10-08'),\n",
       " (3, '2018-10-09'),\n",
       " (3, '2018-10-10'),\n",
       " (4, '2018-10-11'),\n",
       " (4, '2018-10-12'),\n",
       " (4, '2018-10-13'),\n",
       " (4, '2018-10-14'),\n",
       " (4, '2018-10-15'),\n",
       " (4, '2018-10-16'),\n",
       " (4, '2018-10-17'),\n",
       " (4, '2018-10-18'),\n",
       " (5, '2018-10-19'),\n",
       " (5, '2018-10-20'),\n",
       " (5, '2018-10-21'),\n",
       " (5, '2018-10-22'),\n",
       " (5, '2018-10-23'),\n",
       " (5, '2018-10-24'),\n",
       " (5, '2018-10-25'),\n",
       " (5, '2018-10-26'),\n",
       " (6, '2018-10-27'),\n",
       " (6, '2018-10-28'),\n",
       " (6, '2018-10-29'),\n",
       " (6, '2018-10-30'),\n",
       " (6, '2018-10-31'),\n",
       " (6, '2018-11-01'),\n",
       " (6, '2018-11-02'),\n",
       " (6, '2018-11-03'),\n",
       " (7, '2018-11-04'),\n",
       " (7, '2018-11-05'),\n",
       " (7, '2018-11-06'),\n",
       " (7, '2018-11-07'),\n",
       " (7, '2018-11-08'),\n",
       " (7, '2018-11-09'),\n",
       " (7, '2018-11-10')]"
      ]
     },
     "execution_count": 239,
     "metadata": {},
     "output_type": "execute_result"
    }
   ],
   "source": [
    "#Задание 6\n",
    "def date_range(start_date,end_date):\n",
    "    a=datetime.date(datetime.strptime(start_date, '%Y-%m-%d'))\n",
    "    b=datetime.date(datetime.strptime(end_date, '%Y-%m-%d'))\n",
    "    aa=a.weekday()\n",
    "    bb=b.weekday()\n",
    "    if a.weekday()!=1:\n",
    "        start_date=a-timedelta(days=aa)+timedelta(days=7)\n",
    "    if bb!=7:\n",
    "        end_date=b-timedelta(days=bb+1)\n",
    "        \n",
    "    try:\n",
    "                \n",
    "                if end_date<start_date:\n",
    "                    raise Exception('дата окончания меньше даты начала')\n",
    "    except Exception as e:\n",
    "                print(e)\n",
    "                return [] \n",
    "    cc=str(end_date-start_date)\n",
    "    p=int(cc.index(' '))\n",
    "    ind=int(cc[:p])  \n",
    "    #Заводим пустой список для итоговых значений\n",
    "    dif_date=[]\n",
    "    ppp=[]\n",
    "   \n",
    "    j=0\n",
    "    t=1\n",
    "    #Заводим пустой список для нумерации недель\n",
    "    ppp=[]\n",
    "    #Формируем список значений\n",
    "    for i in range(ind):\n",
    "        dif_date.append(str(start_date+timedelta(days=i)))\n",
    "        #Формируем список недель\n",
    "        if j!=8:\n",
    "            ppp.append(t)\n",
    "            j=j+1\n",
    "        else:\n",
    "            j=1\n",
    "            t=t+1\n",
    "            ppp.append(t)\n",
    "    #Объединяем в словарь\n",
    "    rez=list(zip(ppp,dif_date))\n",
    "                \n",
    "    return rez \n",
    "   \n",
    "        \n",
    "date_range('2018-09-15','2018-11-15')"
   ]
  }
 ],
 "metadata": {
  "kernelspec": {
   "display_name": "Python 3",
   "language": "python",
   "name": "python3"
  },
  "language_info": {
   "codemirror_mode": {
    "name": "ipython",
    "version": 3
   },
   "file_extension": ".py",
   "mimetype": "text/x-python",
   "name": "python",
   "nbconvert_exporter": "python",
   "pygments_lexer": "ipython3",
   "version": "3.6.1"
  }
 },
 "nbformat": 4,
 "nbformat_minor": 2
}
