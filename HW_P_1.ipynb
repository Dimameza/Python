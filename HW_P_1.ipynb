{
 "cells": [
  {
   "cell_type": "code",
   "execution_count": 9,
   "metadata": {},
   "outputs": [
    {
     "name": "stdout",
     "output_type": "stream",
     "text": [
      "True\n",
      "1.0\n"
     ]
    }
   ],
   "source": [
    "#задание 1\n",
    "import math\n",
    "long_phrase = len('Насколько проще было бы писать программы, если бы не заказчики')\n",
    "short_phrase = len('640Кб должно хватить для любых задач. Билл Гейтс (по легенде)')\n",
    "differens=math.fabs(long_phrase-short_phrase)\n",
    "True_str=(long_phrase>short_phrase)\n",
    "print (True_str)\n",
    "print (differens)"
   ]
  },
  {
   "cell_type": "code",
   "execution_count": 62,
   "metadata": {},
   "outputs": [
    {
     "name": "stdout",
     "output_type": "stream",
     "text": [
      "Текст содержит больше букв а!\n"
     ]
    }
   ],
   "source": [
    "#задание 2\n",
    "text = 'Если программист в 9-00 утра на работе, значит, он там и ночевал'\n",
    "lit1='а'\n",
    "lit2='и'\n",
    "num_lit1=text.count(lit1)\n",
    "num_lit2=text.count(lit2)\n",
    "differens=math.fabs(num_lit1-num_lit2)\n",
    "if num_lit1>num_lit2:\n",
    "    print ('Текст содержит больше букв {}!'.format(lit1))\n",
    "if num_lit2>num_lit1:\n",
    "    print ('Текст содержит больше букв {}!'.format(lit2))\n"
   ]
  },
  {
   "cell_type": "code",
   "execution_count": 71,
   "metadata": {},
   "outputs": [
    {
     "data": {
      "text/plain": [
       "'Объем файла равен 338Mb'"
      ]
     },
     "execution_count": 71,
     "metadata": {},
     "output_type": "execute_result"
    }
   ],
   "source": [
    "#задание 3\n",
    "file_size=354869584\n",
    "short_size=int(file_size/1024/1024)\n",
    "'{0}{1}{2}'.format('Объем файла равен ',short_size, 'Mb')"
   ]
  },
  {
   "cell_type": "code",
   "execution_count": 80,
   "metadata": {},
   "outputs": [
    {
     "name": "stdout",
     "output_type": "stream",
     "text": [
      "0.49999999999999994\n"
     ]
    }
   ],
   "source": [
    "#задание 4\n",
    "import math\n",
    "sin_value=30\n",
    "result=math.sin(sin_value*math.pi/180)\n",
    "print (result)"
   ]
  },
  {
   "cell_type": "code",
   "execution_count": 78,
   "metadata": {},
   "outputs": [
    {
     "name": "stdout",
     "output_type": "stream",
     "text": [
      "0.30\n"
     ]
    }
   ],
   "source": [
    "#задание 5\n",
    "summa=0.1+0.2\n",
    "print(format(summa, '.2f'))"
   ]
  },
  {
   "cell_type": "code",
   "execution_count": 126,
   "metadata": {},
   "outputs": [
    {
     "name": "stdout",
     "output_type": "stream",
     "text": [
      "4343566543\n",
      "34\n"
     ]
    }
   ],
   "source": [
    "#задание 6\n",
    "a=str(4343566543)\n",
    "b=str(34)\n",
    "u=(str(b)+str(a))\n",
    "print(b.replace(str(b),str(a)))\n",
    "print(a.replace(str(a),str(b)))\n",
    "\n",
    "\n"
   ]
  },
  {
   "cell_type": "code",
   "execution_count": 193,
   "metadata": {},
   "outputs": [
    {
     "name": "stdout",
     "output_type": "stream",
     "text": [
      "19\n"
     ]
    }
   ],
   "source": [
    "#задание 7\n",
    "num=10011\n",
    "c=0\n",
    "a=int(0)\n",
    "str_num=str(num)\n",
    "liststr=list(str_num)\n",
    "for i in range(int(len(liststr))):\n",
    "   a=a+int((liststr[i]))*2**(int(len(liststr))-i-1)\n",
    "print(a)"
   ]
  }
 ],
 "metadata": {
  "kernelspec": {
   "display_name": "Python 3",
   "language": "python",
   "name": "python3"
  },
  "language_info": {
   "codemirror_mode": {
    "name": "ipython",
    "version": 3
   },
   "file_extension": ".py",
   "mimetype": "text/x-python",
   "name": "python",
   "nbconvert_exporter": "python",
   "pygments_lexer": "ipython3",
   "version": "3.6.5"
  }
 },
 "nbformat": 4,
 "nbformat_minor": 2
}
