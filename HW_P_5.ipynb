{
 "cells": [
  {
   "cell_type": "code",
   "execution_count": 14,
   "metadata": {},
   "outputs": [
    {
     "data": {
      "text/plain": [
       "array([9, 8, 7, 6, 5, 4, 3, 2, 1, 0])"
      ]
     },
     "execution_count": 14,
     "metadata": {},
     "output_type": "execute_result"
    }
   ],
   "source": [
    "#Задание 1\n",
    "import numpy as np\n",
    "def gtt(n):\n",
    "    a=[]\n",
    "    for i in range(n):\n",
    "        a.append(n-i-1)\n",
    "    return np.array(a)\n",
    "gtt(10)"
   ]
  },
  {
   "cell_type": "code",
   "execution_count": 55,
   "metadata": {},
   "outputs": [
    {
     "data": {
      "text/plain": [
       "10.0"
      ]
     },
     "execution_count": 55,
     "metadata": {},
     "output_type": "execute_result"
    }
   ],
   "source": [
    "#Задание 2\n",
    "import numpy as np\n",
    "def gtt(n):\n",
    "    #создаем единичную диагональную матрицу\n",
    "    a=np.identity(n)\n",
    "    i=0\n",
    "    #расставляем числа по диагонали\n",
    "    for i in range(n+1):\n",
    "        a[i-1][i-1]=n-i\n",
    "    return a.sum()\n",
    "gtt(5)"
   ]
  },
  {
   "cell_type": "code",
   "execution_count": 48,
   "metadata": {},
   "outputs": [
    {
     "data": {
      "text/plain": [
       "318"
      ]
     },
     "execution_count": 48,
     "metadata": {},
     "output_type": "execute_result"
    }
   ],
   "source": [
    "#Задание 3\n",
    "import pandas as pd\n",
    "data = pd.read_csv('ratings.csv')\n",
    "max_level=data['rating'].max()\n",
    "data[data.rating==max_level]['movieId'].value_counts().keys()[0]"
   ]
  },
  {
   "cell_type": "code",
   "execution_count": 32,
   "metadata": {},
   "outputs": [
    {
     "data": {
      "text/plain": [
       "86511.0"
      ]
     },
     "execution_count": 32,
     "metadata": {},
     "output_type": "execute_result"
    }
   ],
   "source": [
    "#Задание 4\n",
    "import pandas as pd\n",
    "data = pd.read_csv('power.csv')\n",
    "data[((data.country=='Lithuania')|(data.country=='latvian')|\n",
    "      (data.country=='estonian'))&((data.category==4)|\n",
    "      (data.category==12)|(data.category==21))&\n",
    "     ((data.year>2005)&(data.year<2010))&(data.quantity>0)]['quantity'].sum()"
   ]
  },
  {
   "cell_type": "code",
   "execution_count": 34,
   "metadata": {},
   "outputs": [
    {
     "data": {
      "text/plain": [
       "array([ 0.46666667,  3.84444444, -5.55555556])"
      ]
     },
     "execution_count": 34,
     "metadata": {},
     "output_type": "execute_result"
    }
   ],
   "source": [
    "#Задание 5\n",
    "import numpy as np\n",
    "M1 = np.array([[4., 2.,1.], [1., 3.,0.],[0.,5.,4.]])\n",
    "v1 = np.array([4., 12.,-3.])\n",
    "np.linalg.solve(M1, v1)"
   ]
  },
  {
   "cell_type": "code",
   "execution_count": null,
   "metadata": {
    "collapsed": true
   },
   "outputs": [],
   "source": []
  }
 ],
 "metadata": {
  "kernelspec": {
   "display_name": "Python 3",
   "language": "python",
   "name": "python3"
  },
  "language_info": {
   "codemirror_mode": {
    "name": "ipython",
    "version": 3
   },
   "file_extension": ".py",
   "mimetype": "text/x-python",
   "name": "python",
   "nbconvert_exporter": "python",
   "pygments_lexer": "ipython3",
   "version": "3.6.1"
  }
 },
 "nbformat": 4,
 "nbformat_minor": 2
}
