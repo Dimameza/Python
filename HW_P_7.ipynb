{
 "cells": [
  {
   "cell_type": "code",
   "execution_count": 7,
   "metadata": {
    "collapsed": true
   },
   "outputs": [],
   "source": [
    "# Задание3\n",
    "from scipy.optimize import minimize\n",
    "import numpy as np"
   ]
  },
  {
   "cell_type": "code",
   "execution_count": 8,
   "metadata": {
    "collapsed": true
   },
   "outputs": [],
   "source": [
    "#Объявляем функцию\n",
    "def objectiv(x):\n",
    "    x1=x[0]\n",
    "    x2=x[1]\n",
    "    x3=x[2]\n",
    "    x4=x[3]\n",
    "    return x1*x4*(x1+x2+x3)+x3\n",
    "def constraint1(x):\n",
    "    return x[0]*x[1]*x[2]*x[3]-25.0\n",
    "def constraint2(x):\n",
    "    sum_sqr=40\n",
    "    for i in range(4):\n",
    "        sum_sqr=sum_sqr-x[i]**2\n",
    "    return sum_sqr\n"
   ]
  },
  {
   "cell_type": "code",
   "execution_count": 53,
   "metadata": {},
   "outputs": [],
   "source": [
    "#Начальная точка\n",
    "x0=[1,5,5,1]\n"
   ]
  },
  {
   "cell_type": "code",
   "execution_count": 10,
   "metadata": {
    "collapsed": true
   },
   "outputs": [],
   "source": [
    "#Ограничения\n",
    "b=[1.0,5.0]\n",
    "bnds=[b,b,b,b]\n",
    "con1={'type':'ineq','fun':constraint1}\n",
    "con2={'type':'eq','fun':constraint2}\n",
    "cons=[con1,con2]\n"
   ]
  },
  {
   "cell_type": "code",
   "execution_count": 11,
   "metadata": {},
   "outputs": [],
   "source": [
    "# Якобиан\n",
    "def der(x):\n",
    "    return np.array([2*x[0]*x[3]+x[3]*x[1]+x[3]*x[2],x[0]*x[3],x[0]*x[3]+1,x[0]**2+x[0]*x[1]])"
   ]
  },
  {
   "cell_type": "code",
   "execution_count": 30,
   "metadata": {
    "collapsed": true
   },
   "outputs": [],
   "source": [
    "#Гессиан\n",
    "def der2(x):\n",
    "    return np.array([2*x[3],0,0,0])"
   ]
  },
  {
   "cell_type": "code",
   "execution_count": 44,
   "metadata": {},
   "outputs": [],
   "source": [
    "sol1=minimize(objectiv,x0,method='SLSQP',jac=der,bounds=bnds,constraints=cons)"
   ]
  },
  {
   "cell_type": "code",
   "execution_count": 47,
   "metadata": {},
   "outputs": [
    {
     "name": "stderr",
     "output_type": "stream",
     "text": [
      "C:\\Anaconda3\\lib\\site-packages\\scipy\\optimize\\_minimize.py:394: RuntimeWarning: Method CG cannot handle constraints nor bounds.\n",
      "  RuntimeWarning)\n"
     ]
    }
   ],
   "source": [
    "sol2=minimize(objectiv,x0,method='CG',jac=der,bounds=bnds,constraints=cons)"
   ]
  },
  {
   "cell_type": "code",
   "execution_count": 16,
   "metadata": {},
   "outputs": [
    {
     "name": "stderr",
     "output_type": "stream",
     "text": [
      "C:\\Anaconda3\\lib\\site-packages\\scipy\\optimize\\_minimize.py:394: RuntimeWarning: Method BFGS cannot handle constraints nor bounds.\n",
      "  RuntimeWarning)\n"
     ]
    }
   ],
   "source": [
    "sol3=minimize(objectiv,x0,method='BFGS',jac=der,bounds=bnds,constraints=cons)"
   ]
  },
  {
   "cell_type": "code",
   "execution_count": 18,
   "metadata": {},
   "outputs": [
    {
     "name": "stderr",
     "output_type": "stream",
     "text": [
      "C:\\Anaconda3\\lib\\site-packages\\scipy\\optimize\\_minimize.py:394: RuntimeWarning: Method Newton-CG cannot handle constraints nor bounds.\n",
      "  RuntimeWarning)\n"
     ]
    }
   ],
   "source": [
    "sol4=minimize(objectiv,x0,method='Newton-CG',jac=der,bounds=bnds,constraints=cons)"
   ]
  },
  {
   "cell_type": "code",
   "execution_count": 20,
   "metadata": {},
   "outputs": [
    {
     "name": "stderr",
     "output_type": "stream",
     "text": [
      "C:\\Anaconda3\\lib\\site-packages\\scipy\\optimize\\_minimize.py:397: RuntimeWarning: Method L-BFGS-B cannot handle constraints.\n",
      "  RuntimeWarning)\n"
     ]
    }
   ],
   "source": [
    "sol5=minimize(objectiv,x0,method='L-BFGS-B',jac=der,bounds=bnds,constraints=cons)"
   ]
  },
  {
   "cell_type": "code",
   "execution_count": 22,
   "metadata": {},
   "outputs": [
    {
     "name": "stderr",
     "output_type": "stream",
     "text": [
      "C:\\Anaconda3\\lib\\site-packages\\scipy\\optimize\\_minimize.py:397: RuntimeWarning: Method TNC cannot handle constraints.\n",
      "  RuntimeWarning)\n"
     ]
    }
   ],
   "source": [
    "sol6=minimize(objectiv,x0,method='TNC',jac=der,bounds=bnds,constraints=cons)"
   ]
  },
  {
   "cell_type": "code",
   "execution_count": 38,
   "metadata": {},
   "outputs": [
    {
     "name": "stderr",
     "output_type": "stream",
     "text": [
      "C:\\Anaconda3\\lib\\site-packages\\scipy\\optimize\\_minimize.py:381: RuntimeWarning: Method Nelder-Mead does not use gradient information (jac).\n",
      "  RuntimeWarning)\n",
      "C:\\Anaconda3\\lib\\site-packages\\scipy\\optimize\\_minimize.py:385: RuntimeWarning: Method Nelder-Mead does not use Hessian information (hess).\n",
      "  RuntimeWarning)\n",
      "C:\\Anaconda3\\lib\\site-packages\\scipy\\optimize\\_minimize.py:394: RuntimeWarning: Method Nelder-Mead cannot handle constraints nor bounds.\n",
      "  RuntimeWarning)\n"
     ]
    }
   ],
   "source": [
    "sol7=minimize(objectiv,x0,method='Nelder-Mead',jac=der,hess=der2,bounds=bnds,constraints=cons)"
   ]
  },
  {
   "cell_type": "code",
   "execution_count": 52,
   "metadata": {},
   "outputs": [
    {
     "data": {
      "text/plain": [
       "     fun: 4.0\n",
       "     jac: array([ 4.,  1.,  2.,  2.])\n",
       " message: 'Local minimum reached (|pg| ~= 0)'\n",
       "    nfev: 5\n",
       "     nit: 2\n",
       "  status: 0\n",
       " success: True\n",
       "       x: array([ 1.,  1.,  1.,  1.])"
      ]
     },
     "execution_count": 52,
     "metadata": {},
     "output_type": "execute_result"
    }
   ],
   "source": [
    "# Лучший способ\n",
    "sol6"
   ]
  },
  {
   "cell_type": "code",
   "execution_count": 193,
   "metadata": {},
   "outputs": [
    {
     "data": {
      "text/plain": [
       "array([[  51,   97,   50,   73,   21],\n",
       "       [   0,   20,    6,   56,   46],\n",
       "       [   0,    0,  -39,  191,  252],\n",
       "       [   0,    0,    0, -161,  -99],\n",
       "       [   0,    0,    0,    0,  -32]])"
      ]
     },
     "execution_count": 193,
     "metadata": {},
     "output_type": "execute_result"
    }
   ],
   "source": [
    "#Задание2\n",
    "import numpy as np\n",
    "nrows=5\n",
    "ncols=5\n",
    "def gtt(nrows,ncols):\n",
    "    a = np.random.randint(100, size=(nrows,ncols))\n",
    "    for i in range(ncols-1):\n",
    "        for j in range(nrows-i-1):\n",
    "            a[i+j+1]=a[i+j+1]-a[i]*(a[i+j+1][i]/a[i][i])\n",
    "   \n",
    "    return a\n",
    "tt=gtt(nrows,ncols)\n",
    "rang=0\n",
    "for i in range(nrows):\n",
    "    if tt[i][i]>0 or tt[i][i]<0:\n",
    "        rang=rang+1\n",
    "\n",
    "tt\n"
   ]
  },
  {
   "cell_type": "code",
   "execution_count": 194,
   "metadata": {},
   "outputs": [
    {
     "data": {
      "text/plain": [
       "5"
      ]
     },
     "execution_count": 194,
     "metadata": {},
     "output_type": "execute_result"
    }
   ],
   "source": [
    "rang"
   ]
  },
  {
   "cell_type": "code",
   "execution_count": 215,
   "metadata": {},
   "outputs": [
    {
     "name": "stdout",
     "output_type": "stream",
     "text": [
      "[[ 1  2  3  4]\n",
      " [ 2  3  4  5]\n",
      " [ 3  4  5  6]\n",
      " [ 4  5  6  7]\n",
      " [ 5  6  7  8]\n",
      " [ 6  7  8  9]\n",
      " [ 7  8  9 10]\n",
      " [ 8  9 10 11]\n",
      " [ 9 10 11 12]\n",
      " [10 11 12 13]\n",
      " [11 12 13 14]]\n"
     ]
    }
   ],
   "source": [
    "#Задание1\n",
    "Z = [1,2,3,4,5,6,7,8,9,10,11,12,13,14]\n",
    "a=[]\n",
    "oo=np.array(Z)\n",
    "p=[1,2,3,4]\n",
    "for i in range(len(Z)):\n",
    "    b=Z[i:i+4]\n",
    "    if len(b)==4:\n",
    "        a.append(b)\n",
    "print(np.array(a))"
   ]
  }
 ],
 "metadata": {
  "kernelspec": {
   "display_name": "Python 3",
   "language": "python",
   "name": "python3"
  },
  "language_info": {
   "codemirror_mode": {
    "name": "ipython",
    "version": 3
   },
   "file_extension": ".py",
   "mimetype": "text/x-python",
   "name": "python",
   "nbconvert_exporter": "python",
   "pygments_lexer": "ipython3",
   "version": "3.6.1"
  }
 },
 "nbformat": 4,
 "nbformat_minor": 2
}
