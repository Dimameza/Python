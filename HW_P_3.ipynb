{
 "cells": [
  {
   "cell_type": "code",
   "execution_count": 21,
   "metadata": {},
   "outputs": [
    {
     "data": {
      "text/plain": [
       "103"
      ]
     },
     "execution_count": 21,
     "metadata": {},
     "output_type": "execute_result"
    }
   ],
   "source": [
    "#задание 1\n",
    "\n",
    "data = [\n",
    "[13, 25, 23, 34],\n",
    "[45, 32, 44, 47],\n",
    "[12, 33, 23, 95],\n",
    "[13, 53, 34, 35],\n",
    "]\n",
    "def scroll(data):\n",
    "    a=0\n",
    "    for i in range(len(data)):\n",
    "        a=a+int(data[i][i])\n",
    "    return a\n",
    "scroll(data)"
   ]
  },
  {
   "cell_type": "code",
   "execution_count": 71,
   "metadata": {},
   "outputs": [
    {
     "data": {
      "text/plain": [
       "28"
      ]
     },
     "execution_count": 71,
     "metadata": {},
     "output_type": "execute_result"
    }
   ],
   "source": [
    "#задание 2\n",
    "data = [1, '5', 'abc', 20, '2']\n",
    "def scroll(data):\n",
    "    a=0\n",
    "    for i in data:\n",
    "        if str(i).isdigit():\n",
    "            a=a+int(i)\n",
    "    return a\n",
    "scroll(data)"
   ]
  },
  {
   "cell_type": "code",
   "execution_count": 2,
   "metadata": {},
   "outputs": [],
   "source": [
    "import requests"
   ]
  },
  {
   "cell_type": "code",
   "execution_count": 24,
   "metadata": {},
   "outputs": [
    {
     "name": "stdout",
     "output_type": "stream",
     "text": [
      "('EUR', 79.3685)\n"
     ]
    }
   ],
   "source": [
    "#задание 3 и 4\n",
    "class Rate:\n",
    "    #добавили дополнительный параметр \"diff\"\n",
    "    def __init__(self, format='value',diff='True'):\n",
    "        self.format = format\n",
    "        self.diff=diff\n",
    "    \n",
    "    def exchange_rates(self):\n",
    "       \n",
    "        r = requests.get('https://www.cbr-xml-daily.ru/daily_json.js')\n",
    "        return r.json()['Valute']\n",
    "    \n",
    "    def make_format(self, currency):\n",
    "        \n",
    "        response = self.exchange_rates()\n",
    "        \n",
    "        if currency in response:\n",
    "            if self.format == 'full':\n",
    "                return response[currency]\n",
    "            \n",
    "            if self.format == 'value':\n",
    "                if self.diff=='True':\n",
    "\n",
    "                    a=response[currency]['Value']\n",
    "                    #Добавляем имя валюте\n",
    "                    b=response[currency]['CharCode']\n",
    "                    #Разница между текущим и предыдущим значением\n",
    "                    c=response[currency]['Previous']-a\n",
    "                    return c\n",
    "            \n",
    "                if self.diff=='False':\n",
    "                           a=response[currency]['Value']\n",
    "                           b=response[currency]['CharCode']\n",
    "\n",
    "                return b,a                                \n",
    "        \n",
    "            if self.format == 'Previous':\n",
    "                if self.diff=='True':\n",
    "\n",
    "                    a=response[currency]['Value']\n",
    "                    b=response[currency]['CharCode']\n",
    "                    c=response[currency]['Previous']-a\n",
    "                    return c\n",
    "            \n",
    "                if self.diff=='False':\n",
    "                           a=response[currency]['Previous']\n",
    "                           b=response[currency]['CharCode']\n",
    "\n",
    "                return b,a                              \n",
    "        \n",
    "        \n",
    "        return 'Error'\n",
    "    \n",
    "    def eur(self):\n",
    "        \"\"\"Возвращает курс евро на сегодня в формате self.format\"\"\"\n",
    "        return self.make_format('EUR')\n",
    "    \n",
    "    def usd(self):\n",
    "        \"\"\"Возвращает курс доллара на сегодня в формате self.format\"\"\"\n",
    "        return self.make_format('USD')\n",
    "    \n",
    "    \n",
    "#Функция поиска макс. значения текущего курса ()    \n",
    "    def val(self):\n",
    "        a=[]\n",
    "        response = self.exchange_rates()\n",
    "        for key, value in response.items():\n",
    "            a.append(list(value.values())[list(value.keys()).index(\"Value\")])\n",
    "\n",
    "        b=max(a)    \n",
    "        for key, value in response.items():\n",
    "            if list(value.values())[list(value.keys()).index(\"Value\")]==b:\n",
    "                 name=value['CharCode']\n",
    "        return self.make_format(name)\n",
    "        \n",
    "print(Rate('Previous','False').eur())        \n"
   ]
  },
  {
   "cell_type": "code",
   "execution_count": 32,
   "metadata": {},
   "outputs": [
    {
     "name": "stdout",
     "output_type": "stream",
     "text": [
      "12\n"
     ]
    }
   ],
   "source": [
    "#Задание 5\n",
    "a=[]\n",
    "def fib(n):\n",
    "    for i in range(n):\n",
    "        if (i==0 or i==1):\n",
    "            a.append(i)\n",
    "        elif i>1:\n",
    "            t=a[i-2]+a[i-1]\n",
    "            a.append(t)\n",
    "\n",
    "    return a\n",
    "\n",
    "print(sum(fib(6)))"
   ]
  },
  {
   "cell_type": "code",
   "execution_count": 33,
   "metadata": {},
   "outputs": [
    {
     "name": "stdout",
     "output_type": "stream",
     "text": [
      "{'2018-01-01': {'yandex': {'cpc': 100}}}\n"
     ]
    }
   ],
   "source": [
    "#Задание 6\n",
    "\n",
    "def cc(a):\n",
    "\n",
    "     cc=dict.fromkeys(a[0:1],dict.fromkeys(a[1:2],dict(zip(a[2:3],a[3:4]))))\n",
    "\n",
    "     return cc\n",
    "\n",
    "   \n",
    "\n",
    "strlist= ['2018-01-01', 'yandex', 'cpc', 100]\n",
    "\n",
    "rez=cc(strlist)\n",
    "\n",
    "print(rez)"
   ]
  },
  {
   "cell_type": "code",
   "execution_count": null,
   "metadata": {},
   "outputs": [],
   "source": []
  }
 ],
 "metadata": {
  "kernelspec": {
   "display_name": "Python 3",
   "language": "python",
   "name": "python3"
  },
  "language_info": {
   "codemirror_mode": {
    "name": "ipython",
    "version": 3
   },
   "file_extension": ".py",
   "mimetype": "text/x-python",
   "name": "python",
   "nbconvert_exporter": "python",
   "pygments_lexer": "ipython3",
   "version": "3.6.5"
  }
 },
 "nbformat": 4,
 "nbformat_minor": 2
}
